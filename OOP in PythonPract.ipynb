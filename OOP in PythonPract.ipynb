{
 "cells": [
  {
   "cell_type": "markdown",
   "metadata": {},
   "source": [
    "###  Write a Python Program(with class concepts) to find the area of the triangle using the below formula.\n",
    "###     area = (s*(s-a)*(s-b)*(s-c)) ** 0.5\n",
    "### Function to take the length of the sides of triangle from user should be defined in the parent class and function to calculate the area should be defined in subclass."
   ]
  },
  {
   "cell_type": "code",
   "execution_count": 1,
   "metadata": {},
   "outputs": [
    {
     "name": "stdout",
     "output_type": "stream",
     "text": [
      "a=5\n",
      "b=5\n",
      "c=5\n",
      "area : 10.825317547305483\n"
     ]
    }
   ],
   "source": [
    "class shape:\n",
    "    def __init__(self,a,b,c):\n",
    "        self.a=float(a)\n",
    "        self.b=float(b)\n",
    "        self.c=float(c)\n",
    "a=int(input(\"a=\"))\n",
    "b=int(input(\"b=\"))\n",
    "c=int(input(\"c=\"))\n",
    "\n",
    "class triangle(shape):\n",
    "    def __init__(self,a,b,c):\n",
    "        super().__init__(a,b,c)\n",
    "\n",
    "    def area_is(self):\n",
    "        s=(a+b+c)/2\n",
    "        return (s*(s-a)*(s-b)*(s-c))**0.5        \n",
    "\n",
    "t=triangle(a,b,c)\n",
    "print(\"area : {}\".format(t.area_is()))"
   ]
  },
  {
   "cell_type": "markdown",
   "metadata": {},
   "source": [
    "## Write a function filter_long_words() that takes a list of words and an integer n and returns the list of words that are longer than n."
   ]
  },
  {
   "cell_type": "code",
   "execution_count": 2,
   "metadata": {},
   "outputs": [],
   "source": [
    "def filter_long_words(list,n):\n",
    "    return [w for w in list if len(w)>n]\n"
   ]
  },
  {
   "cell_type": "code",
   "execution_count": 3,
   "metadata": {},
   "outputs": [
    {
     "name": "stdout",
     "output_type": "stream",
     "text": [
      "['Procastinationary']\n"
     ]
    }
   ],
   "source": [
    "print (filter_long_words(['Hello', 'requests', 'excercies', 'Procastinationary'], 9) )"
   ]
  },
  {
   "cell_type": "markdown",
   "metadata": {},
   "source": [
    "## Write a Python program using function concept that maps list of words into a list of integers representing the lengths of the corresponding words.\n",
    "### Hint: If a list [ ab,cde,erty] is passed on to the python function output should come as [2,3,4] Here 2,3 and 4 are the lengths of the words in the list.\n"
   ]
  },
  {
   "cell_type": "code",
   "execution_count": 4,
   "metadata": {},
   "outputs": [
    {
     "name": "stdout",
     "output_type": "stream",
     "text": [
      "Input : Please enter Words : manfef,gthyje,fe3\n",
      "Output: Length of Words are : [6, 6, 3]\n"
     ]
    }
   ],
   "source": [
    "def map_Words_to_Length(List):\n",
    "    return list(map(len, List))\n",
    "\n",
    "word_List=list(input(\"Input : Please enter Words : \").split(\",\"))\n",
    "List=[x.strip() for x in word_List]\n",
    "Words_lengths=map_Words_to_Length(List)\n",
    "print(\"Output: Length of Words are :\",Words_lengths )\n"
   ]
  },
  {
   "cell_type": "markdown",
   "metadata": {},
   "source": [
    "## Write a Python function which takes a character (i.e. a string of length 1) and returns True if it is a vowel, False otherwise."
   ]
  },
  {
   "cell_type": "code",
   "execution_count": 8,
   "metadata": {},
   "outputs": [
    {
     "name": "stdout",
     "output_type": "stream",
     "text": [
      "Enter letter to check, vowel or not\n",
      "Enter any letter:- d\n",
      "The value is:-  False\n"
     ]
    }
   ],
   "source": [
    "def vowel(inputchar):\n",
    "    if(len(inputchar)==1):\n",
    "        vowel=['a','e','i','o','u']\n",
    "        if(inputchar.lower() in vowel):\n",
    "            return_value= True\n",
    "        else:\n",
    "            return_value= False\n",
    "    return return_value\n",
    "print(\"Enter letter to check, vowel or not\")\n",
    "\n",
    "a=input(\"Enter any letter:- \")\n",
    "b=vowel(a)\n",
    "print(\"The value is:- \",b)"
   ]
  },
  {
   "cell_type": "code",
   "execution_count": null,
   "metadata": {},
   "outputs": [],
   "source": []
  }
 ],
 "metadata": {
  "kernelspec": {
   "display_name": "Python 3",
   "language": "python",
   "name": "python3"
  },
  "language_info": {
   "codemirror_mode": {
    "name": "ipython",
    "version": 3
   },
   "file_extension": ".py",
   "mimetype": "text/x-python",
   "name": "python",
   "nbconvert_exporter": "python",
   "pygments_lexer": "ipython3",
   "version": "3.8.5"
  }
 },
 "nbformat": 4,
 "nbformat_minor": 4
}
