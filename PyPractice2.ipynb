{
 "cells": [
  {
   "cell_type": "markdown",
   "metadata": {},
   "source": [
    "## 1.Write a Python program to get a dictonary from an object's field "
   ]
  },
  {
   "cell_type": "code",
   "execution_count": 5,
   "metadata": {},
   "outputs": [
    {
     "name": "stdout",
     "output_type": "stream",
     "text": [
      "{'x': 'algorithm', 'y': 'statistics', 'z': 'programming'}\n"
     ]
    }
   ],
   "source": [
    "class dictObj(object):\n",
    "    def __init__(self):\n",
    "        self.x = 'algorithm'\n",
    "        self.y = 'statistics'\n",
    "        self.z = 'programming'\n",
    "    def do_nothing(self):\n",
    "        pass\n",
    "test = dictObj()\n",
    "print(test.__dict__)"
   ]
  },
  {
   "cell_type": "markdown",
   "metadata": {},
   "source": [
    "## 2. Write a program to remove duplicate from Dictionary"
   ]
  },
  {
   "cell_type": "code",
   "execution_count": 9,
   "metadata": {},
   "outputs": [
    {
     "name": "stdout",
     "output_type": "stream",
     "text": [
      "{'id1': {'name': ['Sara'], 'class': ['V'], 'subject_integration': ['english,maths,science']}, 'id2': {'name': ['David'], 'class': ['V'], 'subject_integration': ['english,maths,science']}, 'id4': {'name': ['surya'], 'class': ['V'], 'subject_integration': ['english,maths,science']}}\n"
     ]
    }
   ],
   "source": [
    "student_data={'id1':{'name':['Sara'],'class':['V'],'subject_integration':['english,maths,science']},\n",
    "              'id2':{'name':['David'],'class':['V'],'subject_integration':['english,maths,science']},\n",
    "              'id3':{'name':['Sara'],'class':['V'],'subject_integration':['english,maths,science']},\n",
    "              'id4':{'name':['surya'],'class':['V'],'subject_integration':['english,maths,science']}\n",
    "             }\n",
    "result={}\n",
    "for key, value in student_data.items():\n",
    "    if value not in result.values():\n",
    "        result[key]=value\n",
    "print(result)\n",
    "    "
   ]
  },
  {
   "cell_type": "markdown",
   "metadata": {},
   "source": [
    "## 3. Write a program to combine two dictionary adding values for common keys "
   ]
  },
  {
   "cell_type": "code",
   "execution_count": 11,
   "metadata": {},
   "outputs": [
    {
     "name": "stdout",
     "output_type": "stream",
     "text": [
      "Counter({'b': 3400, 'a': 1300, 'c': 1300, 'd': 400})\n"
     ]
    }
   ],
   "source": [
    "from collections import Counter \n",
    "d1={'a':1000,'b':3200,'c':1300}\n",
    "d2={'a':300,'b':200,'d':400}\n",
    "d=Counter(d1)+Counter(d2)\n",
    "print(d)\n"
   ]
  },
  {
   "cell_type": "markdown",
   "metadata": {},
   "source": [
    "## 4. Write a program to print all unique values from a dictionary in a list "
   ]
  },
  {
   "cell_type": "code",
   "execution_count": 12,
   "metadata": {},
   "outputs": [],
   "source": [
    "data=[{\"V\":\"S001\"},{\"V\":\"S002\"},{\"VI\":\"S001\"},{\"VI\":\"S005\"},\n",
    "      {\"VII\":\"S005\"},{\"V\":\"S009\"},{\"VII\":\"S007\"}]"
   ]
  },
  {
   "cell_type": "code",
   "execution_count": 14,
   "metadata": {},
   "outputs": [
    {
     "name": "stdout",
     "output_type": "stream",
     "text": [
      "Unique Values:  {'S002', 'S007', 'S005', 'S001', 'S009'}\n"
     ]
    }
   ],
   "source": [
    "u_value=set(val for dic in data for val in dic.values())\n",
    "print(\"Unique Values: \",u_value)"
   ]
  },
  {
   "cell_type": "markdown",
   "metadata": {},
   "source": [
    "## 5. Create a tuple from multiple data types"
   ]
  },
  {
   "cell_type": "code",
   "execution_count": 16,
   "metadata": {},
   "outputs": [
    {
     "name": "stdout",
     "output_type": "stream",
     "text": [
      "('tuple', False, 3, 2, 1.1)\n"
     ]
    }
   ],
   "source": [
    "tuple1=(\"tuple\",False,3,2,1.1)\n",
    "print(tuple1)"
   ]
  },
  {
   "cell_type": "code",
   "execution_count": 20,
   "metadata": {},
   "outputs": [
    {
     "name": "stdout",
     "output_type": "stream",
     "text": [
      "(['tuple', 'dict', 'try'], [2.3, 4, 5, 67, 1], [1, 2, 3, 4], [True, False])\n"
     ]
    }
   ],
   "source": [
    "a=['tuple','dict','try']\n",
    "b=[2.3,4,5,67,1]\n",
    "c=[1,2,3,4]\n",
    "d=[True,False]\n",
    "tuple2=(a,b,c,d)\n",
    "print(tuple2)"
   ]
  },
  {
   "cell_type": "markdown",
   "metadata": {},
   "source": [
    "## 6. Create a list of Length 3 and Create a list of Length 4, For each element in the first list,\n",
    "### Display the corresponding index element of the second list"
   ]
  },
  {
   "cell_type": "code",
   "execution_count": 22,
   "metadata": {},
   "outputs": [
    {
     "name": "stdout",
     "output_type": "stream",
     "text": [
      "data science has the following option: Red hat\n",
      "Blue mix has the following option: Blue mix\n",
      "algorithms has the following option: Green gold\n"
     ]
    }
   ],
   "source": [
    "#Create a list of Length3:\n",
    "header=['data science','Blue mix','algorithms']\n",
    "#Create a list of Length4:\n",
    "match=['Red hat','Blue mix','Green gold','Orange Ai']\n",
    "#for each element in the first list,\n",
    "for header, match in zip(header,match):\n",
    "#display the corresponding index element of the second list:    \n",
    "    print(header,'has the following option:', match)\n"
   ]
  },
  {
   "cell_type": "markdown",
   "metadata": {},
   "source": [
    "## 7. Display an example of nested for loop using list comprehension"
   ]
  },
  {
   "cell_type": "code",
   "execution_count": 25,
   "metadata": {},
   "outputs": [
    {
     "data": {
      "text/plain": [
       "[('data science', 'Red hat'),\n",
       " ('data science', 'Blue mixx'),\n",
       " ('data science', 'Green god'),\n",
       " ('data science', 'Orange Ai'),\n",
       " ('Blue mix', 'Red hat'),\n",
       " ('Blue mix', 'Blue mixx'),\n",
       " ('Blue mix', 'Green god'),\n",
       " ('Blue mix', 'Orange Ai'),\n",
       " ('algorithms', 'Red hat'),\n",
       " ('algorithms', 'Blue mixx'),\n",
       " ('algorithms', 'Green god'),\n",
       " ('algorithms', 'Orange Ai')]"
      ]
     },
     "execution_count": 25,
     "metadata": {},
     "output_type": "execute_result"
    }
   ],
   "source": [
    "header=['data science','Blue mix','algorithms']\n",
    "matches=['Red hat','Blue mixx','Green god','Orange Ai']\n",
    "[(header,match) for header in header for match in matches]"
   ]
  },
  {
   "cell_type": "markdown",
   "metadata": {},
   "source": [
    "## 8. Write a program for breaking and exiting out of loop"
   ]
  },
  {
   "cell_type": "code",
   "execution_count": 3,
   "metadata": {},
   "outputs": [
    {
     "name": "stdout",
     "output_type": "stream",
     "text": [
      "Red Army\n",
      "Blue Army\n",
      "Blue Army Found! Stopping.\n"
     ]
    }
   ],
   "source": [
    "armies=['Red Army','Blue Army', 'Green Army']\n",
    "for army in armies:\n",
    "    print(army)\n",
    "    if army=='Blue Army':\n",
    "        print('Blue Army Found! Stopping.')\n",
    "        break"
   ]
  },
  {
   "cell_type": "code",
   "execution_count": 4,
   "metadata": {},
   "outputs": [],
   "source": [
    "#A loop will exitt when completed, but using an else statement we can add an action at the conclusion of the loop if it hasn't been exited earlier."
   ]
  },
  {
   "cell_type": "code",
   "execution_count": 6,
   "metadata": {},
   "outputs": [
    {
     "name": "stdout",
     "output_type": "stream",
     "text": [
      "Red Army\n",
      "Blue Army\n",
      "Green Army\n",
      "Looped through the whole list, NO orange army found\n"
     ]
    }
   ],
   "source": [
    "for army in armies:\n",
    "    print(army)\n",
    "    if army=='Orange Army':\n",
    "        break\n",
    "else:\n",
    "        print('Looped through the whole list, NO orange army found')"
   ]
  },
  {
   "cell_type": "code",
   "execution_count": null,
   "metadata": {},
   "outputs": [],
   "source": []
  }
 ],
 "metadata": {
  "kernelspec": {
   "display_name": "Python 3",
   "language": "python",
   "name": "python3"
  },
  "language_info": {
   "codemirror_mode": {
    "name": "ipython",
    "version": 3
   },
   "file_extension": ".py",
   "mimetype": "text/x-python",
   "name": "python",
   "nbconvert_exporter": "python",
   "pygments_lexer": "ipython3",
   "version": "3.8.5"
  }
 },
 "nbformat": 4,
 "nbformat_minor": 4
}
